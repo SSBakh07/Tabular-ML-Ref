{
 "cells": [
  {
   "cell_type": "code",
   "execution_count": 1,
   "metadata": {},
   "outputs": [],
   "source": [
    "#### Library Imports\n",
    "import pandas as pd \n",
    "from sklearn.model_selection import KFold, train_test_split\n",
    "from model_creators.xgboost_model import XGBModel\n",
    "from sklearn.metrics import accuracy_score\n"
   ]
  },
  {
   "cell_type": "code",
   "execution_count": 2,
   "metadata": {},
   "outputs": [],
   "source": [
    "#### Parameters\n",
    "seed = 7\n",
    "\n",
    "### Model training\n",
    "model_list = []    # Options include 'xgboost', \n",
    "cross_validation_strat = KFold(n_splits=5, shuffle=True, random_state=seed)    # See ReadMe.md for more information\n",
    "USE_ENSEMBLE = False    # If False, will only train the first model in \n",
    "metric = 'accuracy'\n",
    "\n",
    "### Logging\n",
    "USE_LOGGER = False\n",
    "LOG_FILE = ''\n",
    "\n",
    "\n",
    "### Data\n",
    "target_col = 'Transported'\n",
    "data_filename = './data/train-cleaned.csv'\n",
    "validation_size = 0.1"
   ]
  },
  {
   "cell_type": "code",
   "execution_count": 3,
   "metadata": {},
   "outputs": [
    {
     "data": {
      "text/html": [
       "<div>\n",
       "<style scoped>\n",
       "    .dataframe tbody tr th:only-of-type {\n",
       "        vertical-align: middle;\n",
       "    }\n",
       "\n",
       "    .dataframe tbody tr th {\n",
       "        vertical-align: top;\n",
       "    }\n",
       "\n",
       "    .dataframe thead th {\n",
       "        text-align: right;\n",
       "    }\n",
       "</style>\n",
       "<table border=\"1\" class=\"dataframe\">\n",
       "  <thead>\n",
       "    <tr style=\"text-align: right;\">\n",
       "      <th></th>\n",
       "      <th>CryoSleep</th>\n",
       "      <th>Age</th>\n",
       "      <th>VIP</th>\n",
       "      <th>RoomService</th>\n",
       "      <th>FoodCourt</th>\n",
       "      <th>ShoppingMall</th>\n",
       "      <th>Spa</th>\n",
       "      <th>VRDeck</th>\n",
       "      <th>Transported</th>\n",
       "      <th>Earth</th>\n",
       "      <th>Europa</th>\n",
       "      <th>Mars</th>\n",
       "      <th>55 Cancri e</th>\n",
       "      <th>PSO J318.5-22</th>\n",
       "      <th>TRAPPIST-1e</th>\n",
       "    </tr>\n",
       "  </thead>\n",
       "  <tbody>\n",
       "    <tr>\n",
       "      <th>0</th>\n",
       "      <td>0</td>\n",
       "      <td>39.0</td>\n",
       "      <td>0</td>\n",
       "      <td>0.0</td>\n",
       "      <td>0.0</td>\n",
       "      <td>0.0</td>\n",
       "      <td>0.0</td>\n",
       "      <td>0.0</td>\n",
       "      <td>0</td>\n",
       "      <td>0.0</td>\n",
       "      <td>1.0</td>\n",
       "      <td>0.0</td>\n",
       "      <td>0.0</td>\n",
       "      <td>0.0</td>\n",
       "      <td>1.0</td>\n",
       "    </tr>\n",
       "    <tr>\n",
       "      <th>1</th>\n",
       "      <td>0</td>\n",
       "      <td>24.0</td>\n",
       "      <td>0</td>\n",
       "      <td>109.0</td>\n",
       "      <td>9.0</td>\n",
       "      <td>25.0</td>\n",
       "      <td>549.0</td>\n",
       "      <td>44.0</td>\n",
       "      <td>1</td>\n",
       "      <td>1.0</td>\n",
       "      <td>0.0</td>\n",
       "      <td>0.0</td>\n",
       "      <td>0.0</td>\n",
       "      <td>0.0</td>\n",
       "      <td>1.0</td>\n",
       "    </tr>\n",
       "    <tr>\n",
       "      <th>2</th>\n",
       "      <td>0</td>\n",
       "      <td>58.0</td>\n",
       "      <td>1</td>\n",
       "      <td>43.0</td>\n",
       "      <td>3576.0</td>\n",
       "      <td>0.0</td>\n",
       "      <td>6715.0</td>\n",
       "      <td>49.0</td>\n",
       "      <td>0</td>\n",
       "      <td>0.0</td>\n",
       "      <td>1.0</td>\n",
       "      <td>0.0</td>\n",
       "      <td>0.0</td>\n",
       "      <td>0.0</td>\n",
       "      <td>1.0</td>\n",
       "    </tr>\n",
       "    <tr>\n",
       "      <th>3</th>\n",
       "      <td>0</td>\n",
       "      <td>33.0</td>\n",
       "      <td>0</td>\n",
       "      <td>0.0</td>\n",
       "      <td>1283.0</td>\n",
       "      <td>371.0</td>\n",
       "      <td>3329.0</td>\n",
       "      <td>193.0</td>\n",
       "      <td>0</td>\n",
       "      <td>0.0</td>\n",
       "      <td>1.0</td>\n",
       "      <td>0.0</td>\n",
       "      <td>0.0</td>\n",
       "      <td>0.0</td>\n",
       "      <td>1.0</td>\n",
       "    </tr>\n",
       "    <tr>\n",
       "      <th>4</th>\n",
       "      <td>0</td>\n",
       "      <td>16.0</td>\n",
       "      <td>0</td>\n",
       "      <td>303.0</td>\n",
       "      <td>70.0</td>\n",
       "      <td>151.0</td>\n",
       "      <td>565.0</td>\n",
       "      <td>2.0</td>\n",
       "      <td>1</td>\n",
       "      <td>1.0</td>\n",
       "      <td>0.0</td>\n",
       "      <td>0.0</td>\n",
       "      <td>0.0</td>\n",
       "      <td>0.0</td>\n",
       "      <td>1.0</td>\n",
       "    </tr>\n",
       "  </tbody>\n",
       "</table>\n",
       "</div>"
      ],
      "text/plain": [
       "   CryoSleep   Age  VIP  RoomService  FoodCourt  ShoppingMall     Spa  VRDeck   \n",
       "0          0  39.0    0          0.0        0.0           0.0     0.0     0.0  \\\n",
       "1          0  24.0    0        109.0        9.0          25.0   549.0    44.0   \n",
       "2          0  58.0    1         43.0     3576.0           0.0  6715.0    49.0   \n",
       "3          0  33.0    0          0.0     1283.0         371.0  3329.0   193.0   \n",
       "4          0  16.0    0        303.0       70.0         151.0   565.0     2.0   \n",
       "\n",
       "   Transported  Earth  Europa  Mars  55 Cancri e  PSO J318.5-22  TRAPPIST-1e  \n",
       "0            0    0.0     1.0   0.0          0.0            0.0          1.0  \n",
       "1            1    1.0     0.0   0.0          0.0            0.0          1.0  \n",
       "2            0    0.0     1.0   0.0          0.0            0.0          1.0  \n",
       "3            0    0.0     1.0   0.0          0.0            0.0          1.0  \n",
       "4            1    1.0     0.0   0.0          0.0            0.0          1.0  "
      ]
     },
     "execution_count": 3,
     "metadata": {},
     "output_type": "execute_result"
    }
   ],
   "source": [
    "#### Load data\n",
    "\n",
    "df = pd.read_csv(data_filename)\n",
    "df.head()"
   ]
  },
  {
   "cell_type": "code",
   "execution_count": 4,
   "metadata": {},
   "outputs": [
    {
     "name": "stdout",
     "output_type": "stream",
     "text": [
      "Train size: (7823, 15)\n",
      "Test size: (870, 15)\n"
     ]
    }
   ],
   "source": [
    "# Split data into train/test \n",
    "\n",
    "train_df, test_df = train_test_split(df, test_size=validation_size, random_state=seed)\n",
    "print(f\"Train size: {train_df.shape}\\nTest size: {test_df.shape}\")\n",
    "\n",
    "train_x, train_y = train_df.drop(target_col, axis=1), train_df[target_col]"
   ]
  },
  {
   "cell_type": "code",
   "execution_count": 5,
   "metadata": {},
   "outputs": [
    {
     "name": "stderr",
     "output_type": "stream",
     "text": [
      "[I 2023-08-11 16:46:34,910] A new study created in memory with name: no-name-a557500b-64da-4c62-82c3-447c500edd6c\n",
      "[I 2023-08-11 16:46:38,025] Trial 0 finished with value: 0.7924067068138548 and parameters: {'max_depth': 6, 'subsample': 0.75, 'n_estimators': 1300, 'eta': 0.06999999999999999, 'reg_alpha': 42, 'reg_lambda': 86, 'min_child_weight': 2, 'colsample_bytree': 0.5664146998709992}. Best is trial 0 with value: 0.7924067068138548.\n",
      "[I 2023-08-11 16:46:42,531] Trial 1 finished with value: 0.7906173243015779 and parameters: {'max_depth': 7, 'subsample': 0.8, 'n_estimators': 3525, 'eta': 0.06999999999999999, 'reg_alpha': 40, 'reg_lambda': 56, 'min_child_weight': 17, 'colsample_bytree': 0.4803120379225171}. Best is trial 0 with value: 0.7924067068138548.\n",
      "[I 2023-08-11 16:46:47,388] Trial 2 finished with value: 0.7936847437961155 and parameters: {'max_depth': 6, 'subsample': 1.0, 'n_estimators': 3025, 'eta': 0.05, 'reg_alpha': 22, 'reg_lambda': 96, 'min_child_weight': 9, 'colsample_bytree': 0.9649002769197252}. Best is trial 2 with value: 0.7936847437961155.\n",
      "[I 2023-08-11 16:46:51,379] Trial 3 finished with value: 0.7935570299796539 and parameters: {'max_depth': 9, 'subsample': 0.8, 'n_estimators': 825, 'eta': 0.02, 'reg_alpha': 24, 'reg_lambda': 28, 'min_child_weight': 12, 'colsample_bytree': 0.7535767637527306}. Best is trial 2 with value: 0.7936847437961155.\n",
      "[I 2023-08-11 16:46:54,356] Trial 4 finished with value: 0.7939402531397335 and parameters: {'max_depth': 9, 'subsample': 0.75, 'n_estimators': 1750, 'eta': 0.06999999999999999, 'reg_alpha': 23, 'reg_lambda': 48, 'min_child_weight': 8, 'colsample_bytree': 0.4469142480703634}. Best is trial 4 with value: 0.7939402531397335.\n",
      "[I 2023-08-11 16:46:59,126] Trial 5 finished with value: 0.7922789929973935 and parameters: {'max_depth': 11, 'subsample': 0.75, 'n_estimators': 4375, 'eta': 0.08, 'reg_alpha': 50, 'reg_lambda': 75, 'min_child_weight': 3, 'colsample_bytree': 0.5943885904313646}. Best is trial 4 with value: 0.7939402531397335.\n",
      "[I 2023-08-11 16:47:00,305] Trial 6 finished with value: 0.788826634418179 and parameters: {'max_depth': 4, 'subsample': 0.95, 'n_estimators': 1075, 'eta': 0.08, 'reg_alpha': 47, 'reg_lambda': 26, 'min_child_weight': 6, 'colsample_bytree': 0.550478043548846}. Best is trial 4 with value: 0.7939402531397335.\n",
      "[I 2023-08-11 16:47:01,148] Trial 7 finished with value: 0.7713139079774152 and parameters: {'max_depth': 14, 'subsample': 1.0, 'n_estimators': 950, 'eta': 0.02, 'reg_alpha': 6, 'reg_lambda': 15, 'min_child_weight': 15, 'colsample_bytree': 0.11540788356779245}. Best is trial 4 with value: 0.7939402531397335.\n",
      "[I 2023-08-11 16:47:06,612] Trial 8 finished with value: 0.7886990023124126 and parameters: {'max_depth': 8, 'subsample': 0.75, 'n_estimators': 2050, 'eta': 0.01, 'reg_alpha': 47, 'reg_lambda': 75, 'min_child_weight': 4, 'colsample_bytree': 0.6494197176599408}. Best is trial 4 with value: 0.7939402531397335.\n",
      "[I 2023-08-11 16:47:07,570] Trial 9 finished with value: 0.7865260697972758 and parameters: {'max_depth': 2, 'subsample': 0.95, 'n_estimators': 1100, 'eta': 0.04, 'reg_alpha': 4, 'reg_lambda': 79, 'min_child_weight': 15, 'colsample_bytree': 0.20895921641297893}. Best is trial 4 with value: 0.7939402531397335.\n"
     ]
    }
   ],
   "source": [
    "# Train XGB model\n",
    "xgb_model = XGBModel(train_x, train_y, cross_validation_strat)\n",
    "xgb_model.run_trial(n_trials=10)"
   ]
  }
 ],
 "metadata": {
  "kernelspec": {
   "display_name": "Python 3",
   "language": "python",
   "name": "python3"
  },
  "language_info": {
   "codemirror_mode": {
    "name": "ipython",
    "version": 3
   },
   "file_extension": ".py",
   "mimetype": "text/x-python",
   "name": "python",
   "nbconvert_exporter": "python",
   "pygments_lexer": "ipython3",
   "version": "3.8.10"
  },
  "orig_nbformat": 4,
  "vscode": {
   "interpreter": {
    "hash": "e084279891f6f4db1ee843a72e2e91611a252795aeda8ffc8cf83a1802c1e7e8"
   }
  }
 },
 "nbformat": 4,
 "nbformat_minor": 2
}
